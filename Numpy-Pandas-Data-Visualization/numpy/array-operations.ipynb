{
 "cells": [
  {
   "cell_type": "code",
   "execution_count": 9,
   "id": "8c134dfe-41fd-411e-a38c-cf335aed7bf5",
   "metadata": {},
   "outputs": [
    {
     "data": {
      "text/plain": [
       "(3, 2)"
      ]
     },
     "execution_count": 9,
     "metadata": {},
     "output_type": "execute_result"
    }
   ],
   "source": [
    "import numpy as np\n",
    "\n",
    "a = np.array([5,6,7])\n",
    "a[2]\n",
    "\n",
    "# show the dimention of array\n",
    "a = np.array([[1,2], [3,4], [5,6]])\n",
    "a.ndim\n",
    "\n",
    "# itemsize took an item\n",
    "a.itemsize\n",
    "\n",
    "# show the data type\n",
    "a.dtype\n",
    "\n",
    "# Assign the data type\n",
    "a = np.array([[1,2], [3,4], [5,6]], dtype=np.float64)\n",
    "a.itemsize\n",
    "\n",
    "# total number of elements\n",
    "a.size\n",
    "\n",
    "# Information on the dimension\n",
    "a.shape\n",
    "\n",
    "# create bunch of zeros or ones\n"
   ]
  },
  {
   "cell_type": "code",
   "execution_count": null,
   "id": "56547879-53ae-4efb-bc44-20091375b171",
   "metadata": {},
   "outputs": [],
   "source": []
  }
 ],
 "metadata": {
  "kernelspec": {
   "display_name": "Python 3 (ipykernel)",
   "language": "python",
   "name": "python3"
  },
  "language_info": {
   "codemirror_mode": {
    "name": "ipython",
    "version": 3
   },
   "file_extension": ".py",
   "mimetype": "text/x-python",
   "name": "python",
   "nbconvert_exporter": "python",
   "pygments_lexer": "ipython3",
   "version": "3.10.12"
  }
 },
 "nbformat": 4,
 "nbformat_minor": 5
}
