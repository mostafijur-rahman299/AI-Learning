{
 "cells": [
  {
   "cell_type": "code",
   "execution_count": 5,
   "id": "8c134dfe-41fd-411e-a38c-cf335aed7bf5",
   "metadata": {},
   "outputs": [
    {
     "data": {
      "text/plain": [
       "2"
      ]
     },
     "execution_count": 5,
     "metadata": {},
     "output_type": "execute_result"
    }
   ],
   "source": [
    "import numpy as np\n",
    "\n",
    "a = np.array([1,2,3])\n",
    "\n",
    "a[1]"
   ]
  },
  {
   "cell_type": "code",
   "execution_count": 10,
   "id": "04497068-d45e-4a9d-8f77-1995c4e84e66",
   "metadata": {},
   "outputs": [
    {
     "name": "stdout",
     "output_type": "stream",
     "text": [
      "28000\n",
      "8000\n"
     ]
    }
   ],
   "source": [
    "# Numpy is prety efficient\n",
    "import numpy as np\n",
    "import time\n",
    "import sys\n",
    "\n",
    "l = range(1000)\n",
    "print(sys.getsizeof(1)*len(l))\n",
    "\n",
    "nar = np.arange(1000)\n",
    "print(nar.size*nar.itemsize)"
   ]
  },
  {
   "cell_type": "code",
   "execution_count": 15,
   "id": "981e91f6-f9be-45e8-b6d5-b790de3489e1",
   "metadata": {},
   "outputs": [
    {
     "name": "stdout",
     "output_type": "stream",
     "text": [
      "Python list took ======== 39.30401802062988  ms\n",
      "Numpy took ===== 2.4306774139404297  ms\n"
     ]
    }
   ],
   "source": [
    "# numpy is less time consuming compare to list\n",
    "import numpy as np\n",
    "import time\n",
    "import sys\n",
    "\n",
    "SIZE = 100000\n",
    "\n",
    "l1 = range(SIZE)\n",
    "l2 = range(SIZE)\n",
    "\n",
    "a1 = np.arange(SIZE)\n",
    "a2 = np.arange(SIZE)\n",
    "\n",
    "# Python List\n",
    "start = time.time()\n",
    "result = [x+y for x,y in zip(l1, l2)]\n",
    "print(\"Python list took ========\", (time.time() - start) * 1000, \" ms\")\n",
    "\n",
    "# Numpy array\n",
    "start = time.time()\n",
    "result = a1 + a2\n",
    "print(\"Numpy took =====\", (time.time() - start) * 1000, \" ms\")\n",
    "\n"
   ]
  },
  {
   "cell_type": "code",
   "execution_count": 16,
   "id": "f743fa16-b3d9-4f8c-901a-f9729ac822fa",
   "metadata": {},
   "outputs": [
    {
     "data": {
      "text/plain": [
       "array([    0,     1,     2, ..., 99997, 99998, 99999])"
      ]
     },
     "execution_count": 16,
     "metadata": {},
     "output_type": "execute_result"
    }
   ],
   "source": [
    "a1 "
   ]
  },
  {
   "cell_type": "code",
   "execution_count": null,
   "id": "3df12d01-7c71-48e8-a2b8-3ee9bfab6d7c",
   "metadata": {},
   "outputs": [],
   "source": []
  }
 ],
 "metadata": {
  "kernelspec": {
   "display_name": "Python 3 (ipykernel)",
   "language": "python",
   "name": "python3"
  },
  "language_info": {
   "codemirror_mode": {
    "name": "ipython",
    "version": 3
   },
   "file_extension": ".py",
   "mimetype": "text/x-python",
   "name": "python",
   "nbconvert_exporter": "python",
   "pygments_lexer": "ipython3",
   "version": "3.10.12"
  }
 },
 "nbformat": 4,
 "nbformat_minor": 5
}
